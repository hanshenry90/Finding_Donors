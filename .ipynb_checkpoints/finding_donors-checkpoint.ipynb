{
 "cells": [
  {
   "cell_type": "markdown",
   "metadata": {},
   "source": [
    "# Machine Learning Engineer Nanodegree\n",
    "## Supervised Learning\n",
    "## Project: Finding Donors for *CharityML*"
   ]
  },
  {
   "cell_type": "markdown",
   "metadata": {},
   "source": [
    "Welcome to the second project of the Machine Learning Engineer Nanodegree! In this notebook, some template code has already been provided for you, and it will be your job to implement the additional functionality necessary to successfully complete this project. Sections that begin with **'Implementation'** in the header indicate that the following block of code will require additional functionality which you must provide. Instructions will be provided for each section and the specifics of the implementation are marked in the code block with a `'TODO'` statement. Please be sure to read the instructions carefully!\n",
    "\n",
    "In addition to implementing code, there will be questions that you must answer which relate to the project and your implementation. Each section where you will answer a question is preceded by a **'Question X'** header. Carefully read each question and provide thorough answers in the following text boxes that begin with **'Answer:'**. Your project submission will be evaluated based on your answers to each of the questions and the implementation you provide.  \n",
    "\n",
    ">**Note:** Code and Markdown cells can be executed using the **Shift + Enter** keyboard shortcut. In addition, Markdown cells can be edited by typically double-clicking the cell to enter edit mode."
   ]
  },
  {
   "cell_type": "markdown",
   "metadata": {},
   "source": [
    "## Getting Started\n",
    "\n",
    "In this project, you will employ several supervised algorithms of your choice to accurately model individuals' income using data collected from the 1994 U.S. Census. You will then choose the best candidate algorithm from preliminary results and further optimize this algorithm to best model the data. Your goal with this implementation is to construct a model that accurately predicts whether an individual makes more than $50,000. This sort of task can arise in a non-profit setting, where organizations survive on donations.  Understanding an individual's income can help a non-profit better understand how large of a donation to request, or whether or not they should reach out to begin with.  While it can be difficult to determine an individual's general income bracket directly from public sources, we can (as we will see) infer this value from other publically available features. \n",
    "\n",
    "The dataset for this project originates from the [UCI Machine Learning Repository](https://archive.ics.uci.edu/ml/datasets/Census+Income). The datset was donated by Ron Kohavi and Barry Becker, after being published in the article _\"Scaling Up the Accuracy of Naive-Bayes Classifiers: A Decision-Tree Hybrid\"_. You can find the article by Ron Kohavi [online](https://www.aaai.org/Papers/KDD/1996/KDD96-033.pdf). The data we investigate here consists of small changes to the original dataset, such as removing the `'fnlwgt'` feature and records with missing or ill-formatted entries."
   ]
  },
  {
   "cell_type": "markdown",
   "metadata": {},
   "source": [
    "----\n",
    "## Exploring the Data\n",
    "Run the code cell below to load necessary Python libraries and load the census data. Note that the last column from this dataset, `'income'`, will be our target label (whether an individual makes more than, or at most, $50,000 annually). All other columns are features about each individual in the census database."
   ]
  },
  {
   "cell_type": "code",
   "execution_count": 153,
   "metadata": {
    "collapsed": false
   },
   "outputs": [
    {
     "data": {
      "text/html": [
       "<div>\n",
       "<table border=\"1\" class=\"dataframe\">\n",
       "  <thead>\n",
       "    <tr style=\"text-align: right;\">\n",
       "      <th></th>\n",
       "      <th>age</th>\n",
       "      <th>workclass</th>\n",
       "      <th>education_level</th>\n",
       "      <th>education-num</th>\n",
       "      <th>marital-status</th>\n",
       "      <th>occupation</th>\n",
       "      <th>relationship</th>\n",
       "      <th>race</th>\n",
       "      <th>sex</th>\n",
       "      <th>capital-gain</th>\n",
       "      <th>capital-loss</th>\n",
       "      <th>hours-per-week</th>\n",
       "      <th>native-country</th>\n",
       "      <th>income</th>\n",
       "    </tr>\n",
       "  </thead>\n",
       "  <tbody>\n",
       "    <tr>\n",
       "      <th>0</th>\n",
       "      <td>39</td>\n",
       "      <td>State-gov</td>\n",
       "      <td>Bachelors</td>\n",
       "      <td>13.0</td>\n",
       "      <td>Never-married</td>\n",
       "      <td>Adm-clerical</td>\n",
       "      <td>Not-in-family</td>\n",
       "      <td>White</td>\n",
       "      <td>Male</td>\n",
       "      <td>2174.0</td>\n",
       "      <td>0.0</td>\n",
       "      <td>40.0</td>\n",
       "      <td>United-States</td>\n",
       "      <td>&lt;=50K</td>\n",
       "    </tr>\n",
       "    <tr>\n",
       "      <th>1</th>\n",
       "      <td>50</td>\n",
       "      <td>Self-emp-not-inc</td>\n",
       "      <td>Bachelors</td>\n",
       "      <td>13.0</td>\n",
       "      <td>Married-civ-spouse</td>\n",
       "      <td>Exec-managerial</td>\n",
       "      <td>Husband</td>\n",
       "      <td>White</td>\n",
       "      <td>Male</td>\n",
       "      <td>0.0</td>\n",
       "      <td>0.0</td>\n",
       "      <td>13.0</td>\n",
       "      <td>United-States</td>\n",
       "      <td>&lt;=50K</td>\n",
       "    </tr>\n",
       "    <tr>\n",
       "      <th>2</th>\n",
       "      <td>38</td>\n",
       "      <td>Private</td>\n",
       "      <td>HS-grad</td>\n",
       "      <td>9.0</td>\n",
       "      <td>Divorced</td>\n",
       "      <td>Handlers-cleaners</td>\n",
       "      <td>Not-in-family</td>\n",
       "      <td>White</td>\n",
       "      <td>Male</td>\n",
       "      <td>0.0</td>\n",
       "      <td>0.0</td>\n",
       "      <td>40.0</td>\n",
       "      <td>United-States</td>\n",
       "      <td>&lt;=50K</td>\n",
       "    </tr>\n",
       "    <tr>\n",
       "      <th>3</th>\n",
       "      <td>53</td>\n",
       "      <td>Private</td>\n",
       "      <td>11th</td>\n",
       "      <td>7.0</td>\n",
       "      <td>Married-civ-spouse</td>\n",
       "      <td>Handlers-cleaners</td>\n",
       "      <td>Husband</td>\n",
       "      <td>Black</td>\n",
       "      <td>Male</td>\n",
       "      <td>0.0</td>\n",
       "      <td>0.0</td>\n",
       "      <td>40.0</td>\n",
       "      <td>United-States</td>\n",
       "      <td>&lt;=50K</td>\n",
       "    </tr>\n",
       "    <tr>\n",
       "      <th>4</th>\n",
       "      <td>28</td>\n",
       "      <td>Private</td>\n",
       "      <td>Bachelors</td>\n",
       "      <td>13.0</td>\n",
       "      <td>Married-civ-spouse</td>\n",
       "      <td>Prof-specialty</td>\n",
       "      <td>Wife</td>\n",
       "      <td>Black</td>\n",
       "      <td>Female</td>\n",
       "      <td>0.0</td>\n",
       "      <td>0.0</td>\n",
       "      <td>40.0</td>\n",
       "      <td>Cuba</td>\n",
       "      <td>&lt;=50K</td>\n",
       "    </tr>\n",
       "  </tbody>\n",
       "</table>\n",
       "</div>"
      ],
      "text/plain": [
       "   age          workclass education_level  education-num       marital-status  \\\n",
       "0   39          State-gov       Bachelors           13.0        Never-married   \n",
       "1   50   Self-emp-not-inc       Bachelors           13.0   Married-civ-spouse   \n",
       "2   38            Private         HS-grad            9.0             Divorced   \n",
       "3   53            Private            11th            7.0   Married-civ-spouse   \n",
       "4   28            Private       Bachelors           13.0   Married-civ-spouse   \n",
       "\n",
       "           occupation    relationship    race      sex  capital-gain  \\\n",
       "0        Adm-clerical   Not-in-family   White     Male        2174.0   \n",
       "1     Exec-managerial         Husband   White     Male           0.0   \n",
       "2   Handlers-cleaners   Not-in-family   White     Male           0.0   \n",
       "3   Handlers-cleaners         Husband   Black     Male           0.0   \n",
       "4      Prof-specialty            Wife   Black   Female           0.0   \n",
       "\n",
       "   capital-loss  hours-per-week  native-country income  \n",
       "0           0.0            40.0   United-States  <=50K  \n",
       "1           0.0            13.0   United-States  <=50K  \n",
       "2           0.0            40.0   United-States  <=50K  \n",
       "3           0.0            40.0   United-States  <=50K  \n",
       "4           0.0            40.0            Cuba  <=50K  "
      ]
     },
     "metadata": {},
     "output_type": "display_data"
    }
   ],
   "source": [
    "# Import libraries necessary for this project\n",
    "import numpy as np\n",
    "import pandas as pd\n",
    "from time import time\n",
    "from IPython.display import display # Allows the use of display() for DataFrames\n",
    "\n",
    "# Import supplementary visualization code visuals.py\n",
    "import visuals as vs\n",
    "\n",
    "# Pretty display for notebooks\n",
    "%matplotlib inline\n",
    "\n",
    "# Load the Census dataset\n",
    "data = pd.read_csv(\"census.csv\")\n",
    "\n",
    "# Success - Display the first record\n",
    "display(data.head(n=5))"
   ]
  },
  {
   "cell_type": "markdown",
   "metadata": {},
   "source": [
    "### Implementation: Data Exploration\n",
    "A cursory investigation of the dataset will determine how many individuals fit into either group, and will tell us about the percentage of these individuals making more than \\$50,000. In the code cell below, you will need to compute the following:\n",
    "- The total number of records, `'n_records'`\n",
    "- The number of individuals making more than \\$50,000 annually, `'n_greater_50k'`.\n",
    "- The number of individuals making at most \\$50,000 annually, `'n_at_most_50k'`.\n",
    "- The percentage of individuals making more than \\$50,000 annually, `'greater_percent'`.\n",
    "\n",
    "**Hint:** You may need to look at the table above to understand how the `'income'` entries are formatted. "
   ]
  },
  {
   "cell_type": "code",
   "execution_count": 6,
   "metadata": {
    "collapsed": false
   },
   "outputs": [
    {
     "name": "stdout",
     "output_type": "stream",
     "text": [
      "Total number of records: 45222\n",
      "Individuals making more than $50,000: 11208\n",
      "Individuals making at most $50,000: 34014\n",
      "Percentage of individuals making more than $50,000: 24.78%\n"
     ]
    }
   ],
   "source": [
    "from collections import Counter\n",
    "# TODO: Total number of records\n",
    "n_records = data.shape[0]\n",
    "\n",
    "# TODO: Number of records where individual's income is more than $50,000    \n",
    "n_greater_50k = data[data.income == '>50K'].shape[0]\n",
    "\n",
    "# TODO: Number of records where individual's income is at most $50,000\n",
    "n_at_most_50k = data[data.income == '<=50K'].shape[0]\n",
    "\n",
    "# TODO: Percentage of individuals whose income is more than $50,000\n",
    "greater_percent = float(n_greater_50k) / float(n_records) *100\n",
    "\n",
    "# Print the results\n",
    "print \"Total number of records: {}\".format(n_records)\n",
    "print \"Individuals making more than $50,000: {}\".format(n_greater_50k)\n",
    "print \"Individuals making at most $50,000: {}\".format(n_at_most_50k)\n",
    "print \"Percentage of individuals making more than $50,000: {:.2f}%\".format(greater_percent)"
   ]
  },
  {
   "cell_type": "code",
   "execution_count": 155,
   "metadata": {
    "collapsed": false
   },
   "outputs": [
    {
     "name": "stdout",
     "output_type": "stream",
     "text": [
      "<class 'pandas.core.frame.DataFrame'>\n",
      "RangeIndex: 45222 entries, 0 to 45221\n",
      "Data columns (total 14 columns):\n",
      "age                45222 non-null int64\n",
      "workclass          45222 non-null object\n",
      "education_level    45222 non-null object\n",
      "education-num      45222 non-null float64\n",
      "marital-status     45222 non-null object\n",
      "occupation         45222 non-null object\n",
      "relationship       45222 non-null object\n",
      "race               45222 non-null object\n",
      "sex                45222 non-null object\n",
      "capital-gain       45222 non-null float64\n",
      "capital-loss       45222 non-null float64\n",
      "hours-per-week     45222 non-null float64\n",
      "native-country     45222 non-null object\n",
      "income             45222 non-null object\n",
      "dtypes: float64(4), int64(1), object(9)\n",
      "memory usage: 4.8+ MB\n"
     ]
    }
   ],
   "source": [
    "data.info()"
   ]
  },
  {
   "cell_type": "code",
   "execution_count": 151,
   "metadata": {
    "collapsed": false
   },
   "outputs": [
    {
     "data": {
      "text/plain": [
       "<seaborn.axisgrid.FacetGrid at 0x117d0dbd0>"
      ]
     },
     "execution_count": 151,
     "metadata": {},
     "output_type": "execute_result"
    },
    {
     "data": {
      "image/png": "[encoded data removed]",
      "text/plain": [
       "<matplotlib.figure.Figure at 0x117bc2d50>"
      ]
     },
     "metadata": {},
     "output_type": "display_data"
    }
   ],
   "source": [
    "import seaborn as sns\n",
    "sns.factorplot('income', 'capital-gain', hue='sex', data=data, kind='bar')"
   ]
  },
  {
   "cell_type": "markdown",
   "metadata": {},
   "source": [
    "----\n",
    "## Preparing the Data\n",
    "Before data can be used as input for machine learning algorithms, it often must be cleaned, formatted, and restructured — this is typically known as **preprocessing**. Fortunately, for this dataset, there are no invalid or missing entries we must deal with, however, there are some qualities about certain features that must be adjusted. This preprocessing can help tremendously with the outcome and predictive power of nearly all learning algorithms."
   ]
  },
  {
   "cell_type": "markdown",
   "metadata": {},
   "source": [
    "### Transforming Skewed Continuous Features\n",
    "A dataset may sometimes contain at least one feature whose values tend to lie near a single number, but will also have a non-trivial number of vastly larger or smaller values than that single number.  Algorithms can be sensitive to such distributions of values and can underperform if the range is not properly normalized. With the census dataset two features fit this description: '`capital-gain'` and `'capital-loss'`. \n",
    "\n",
    "Run the code cell below to plot a histogram of these two features. Note the range of the values present and how they are distributed."
   ]
  },
  {
   "cell_type": "code",
   "execution_count": 9,
   "metadata": {
    "collapsed": false
   },
   "outputs": [
    {
     "data": {
      "image/png": "[encoded data removed]",
      "text/plain": [
       "<matplotlib.figure.Figure at 0x10df19350>"
      ]
     },
     "metadata": {},
     "output_type": "display_data"
    }
   ],
   "source": [
    "# Split the data into features and target label\n",
    "income_raw = data['income']\n",
    "features_raw = data.drop('income', axis = 1)\n",
    "\n",
    "# Visualize skewed continuous features of original data\n",
    "vs.distribution(data)"
   ]
  },
  {
   "cell_type": "markdown",
   "metadata": {},
   "source": [
    "For highly-skewed feature distributions such as `'capital-gain'` and `'capital-loss'`, it is common practice to apply a <a href=\"https://en.wikipedia.org/wiki/Data_transformation_(statistics)\">logarithmic transformation</a> on the data so that the very large and very small values do not negatively affect the performance of a learning algorithm. Using a logarithmic transformation significantly reduces the range of values caused by outliers. Care must be taken when applying this transformation however: The logarithm of `0` is undefined, so we must translate the values by a small amount above `0` to apply the the logarithm successfully.\n",
    "\n",
    "Run the code cell below to perform a transformation on the data and visualize the results. Again, note the range of values and how they are distributed. "
   ]
  },
  {
   "cell_type": "code",
   "execution_count": 10,
   "metadata": {
    "collapsed": false
   },
   "outputs": [
    {
     "data": {
      "image/png": "[encoded data removed]",
      "text/plain": [
       "<matplotlib.figure.Figure at 0x119946410>"
      ]
     },
     "metadata": {},
     "output_type": "display_data"
    }
   ],
   "source": [
    "# Log-transform the skewed features\n",
    "skewed = ['capital-gain', 'capital-loss']\n",
    "features_raw[skewed] = data[skewed].apply(lambda x: np.log(x + 1))\n",
    "\n",
    "# Visualize the new log distributions\n",
    "vs.distribution(features_raw, transformed = True)"
   ]
  },
  {
   "cell_type": "markdown",
   "metadata": {},
   "source": [
    "### Normalizing Numerical Features\n",
    "In addition to performing transformations on features that are highly skewed, it is often good practice to perform some type of scaling on numerical features. Applying a scaling to the data does not change the shape of each feature's distribution (such as `'capital-gain'` or `'capital-loss'` above); however, normalization ensures that each feature is treated equally when applying supervised learners. Note that once scaling is applied, observing the data in its raw form will no longer have the same original meaning, as exampled below.\n",
    "\n",
    "Run the code cell below to normalize each numerical feature. We will use [`sklearn.preprocessing.MinMaxScaler`](http://scikit-learn.org/stable/modules/generated/sklearn.preprocessing.MinMaxScaler.html) for this."
   ]
  },
  {
   "cell_type": "code",
   "execution_count": 11,
   "metadata": {
    "collapsed": false
   },
   "outputs": [
    {
     "data": {
      "text/html": [
       "<div>\n",
       "<table border=\"1\" class=\"dataframe\">\n",
       "  <thead>\n",
       "    <tr style=\"text-align: right;\">\n",
       "      <th></th>\n",
       "      <th>age</th>\n",
       "      <th>workclass</th>\n",
       "      <th>education_level</th>\n",
       "      <th>education-num</th>\n",
       "      <th>marital-status</th>\n",
       "      <th>occupation</th>\n",
       "      <th>relationship</th>\n",
       "      <th>race</th>\n",
       "      <th>sex</th>\n",
       "      <th>capital-gain</th>\n",
       "      <th>capital-loss</th>\n",
       "      <th>hours-per-week</th>\n",
       "      <th>native-country</th>\n",
       "    </tr>\n",
       "  </thead>\n",
       "  <tbody>\n",
       "    <tr>\n",
       "      <th>0</th>\n",
       "      <td>0.30137</td>\n",
       "      <td>State-gov</td>\n",
       "      <td>Bachelors</td>\n",
       "      <td>0.8</td>\n",
       "      <td>Never-married</td>\n",
       "      <td>Adm-clerical</td>\n",
       "      <td>Not-in-family</td>\n",
       "      <td>White</td>\n",
       "      <td>Male</td>\n",
       "      <td>0.02174</td>\n",
       "      <td>0.0</td>\n",
       "      <td>0.397959</td>\n",
       "      <td>United-States</td>\n",
       "    </tr>\n",
       "  </tbody>\n",
       "</table>\n",
       "</div>"
      ],
      "text/plain": [
       "       age   workclass education_level  education-num  marital-status  \\\n",
       "0  0.30137   State-gov       Bachelors            0.8   Never-married   \n",
       "\n",
       "      occupation    relationship    race    sex  capital-gain  capital-loss  \\\n",
       "0   Adm-clerical   Not-in-family   White   Male       0.02174           0.0   \n",
       "\n",
       "   hours-per-week  native-country  \n",
       "0        0.397959   United-States  "
      ]
     },
     "metadata": {},
     "output_type": "display_data"
    }
   ],
   "source": [
    "# Import sklearn.preprocessing.StandardScaler\n",
    "from sklearn.preprocessing import MinMaxScaler\n",
    "\n",
    "# Initialize a scaler, then apply it to the features\n",
    "scaler = MinMaxScaler()\n",
    "numerical = ['age', 'education-num', 'capital-gain', 'capital-loss', 'hours-per-week']\n",
    "features_raw[numerical] = scaler.fit_transform(data[numerical])\n",
    "\n",
    "# Show an example of a record with scaling applied\n",
    "display(features_raw.head(n=1))"
   ]
  },
  {
   "cell_type": "markdown",
   "metadata": {},
   "source": [
    "### Implementation: Data Preprocessing\n",
    "\n",
    "From the table in **Exploring the Data** above, we can see there are several features for each record that are non-numeric. Typically, learning algorithms expect input to be numeric, which requires that non-numeric features (called *categorical variables*) be converted. One popular way to convert categorical variables is by using the **one-hot encoding** scheme. One-hot encoding creates a _\"dummy\"_ variable for each possible category of each non-numeric feature. For example, assume `someFeature` has three possible entries: `A`, `B`, or `C`. We then encode this feature into `someFeature_A`, `someFeature_B` and `someFeature_C`.\n",
    "\n",
    "|   | someFeature |                    | someFeature_A | someFeature_B | someFeature_C |\n",
    "| :-: | :-: |                            | :-: | :-: | :-: |\n",
    "| 0 |  B  |  | 0 | 1 | 0 |\n",
    "| 1 |  C  | ----> one-hot encode ----> | 0 | 0 | 1 |\n",
    "| 2 |  A  |  | 1 | 0 | 0 |\n",
    "\n",
    "Additionally, as with the non-numeric features, we need to convert the non-numeric target label, `'income'` to numerical values for the learning algorithm to work. Since there are only two possible categories for this label (\"<=50K\" and \">50K\"), we can avoid using one-hot encoding and simply encode these two categories as `0` and `1`, respectively. In code cell below, you will need to implement the following:\n",
    " - Use [`pandas.get_dummies()`](http://pandas.pydata.org/pandas-docs/stable/generated/pandas.get_dummies.html?highlight=get_dummies#pandas.get_dummies) to perform one-hot encoding on the `'features_raw'` data.\n",
    " - Convert the target label `'income_raw'` to numerical entries.\n",
    "   - Set records with \"<=50K\" to `0` and records with \">50K\" to `1`."
   ]
  },
  {
   "cell_type": "code",
   "execution_count": 72,
   "metadata": {
    "collapsed": false,
    "scrolled": true
   },
   "outputs": [
    {
     "name": "stdout",
     "output_type": "stream",
     "text": [
      "103 total features after one-hot encoding.\n",
      "['age', 'education-num', 'capital-gain', 'capital-loss', 'hours-per-week', 'workclass_ Federal-gov', 'workclass_ Local-gov', 'workclass_ Private', 'workclass_ Self-emp-inc', 'workclass_ Self-emp-not-inc', 'workclass_ State-gov', 'workclass_ Without-pay', 'education_level_ 10th', 'education_level_ 11th', 'education_level_ 12th', 'education_level_ 1st-4th', 'education_level_ 5th-6th', 'education_level_ 7th-8th', 'education_level_ 9th', 'education_level_ Assoc-acdm', 'education_level_ Assoc-voc', 'education_level_ Bachelors', 'education_level_ Doctorate', 'education_level_ HS-grad', 'education_level_ Masters', 'education_level_ Preschool', 'education_level_ Prof-school', 'education_level_ Some-college', 'marital-status_ Divorced', 'marital-status_ Married-AF-spouse', 'marital-status_ Married-civ-spouse', 'marital-status_ Married-spouse-absent', 'marital-status_ Never-married', 'marital-status_ Separated', 'marital-status_ Widowed', 'occupation_ Adm-clerical', 'occupation_ Armed-Forces', 'occupation_ Craft-repair', 'occupation_ Exec-managerial', 'occupation_ Farming-fishing', 'occupation_ Handlers-cleaners', 'occupation_ Machine-op-inspct', 'occupation_ Other-service', 'occupation_ Priv-house-serv', 'occupation_ Prof-specialty', 'occupation_ Protective-serv', 'occupation_ Sales', 'occupation_ Tech-support', 'occupation_ Transport-moving', 'relationship_ Husband', 'relationship_ Not-in-family', 'relationship_ Other-relative', 'relationship_ Own-child', 'relationship_ Unmarried', 'relationship_ Wife', 'race_ Amer-Indian-Eskimo', 'race_ Asian-Pac-Islander', 'race_ Black', 'race_ Other', 'race_ White', 'sex_ Female', 'sex_ Male', 'native-country_ Cambodia', 'native-country_ Canada', 'native-country_ China', 'native-country_ Columbia', 'native-country_ Cuba', 'native-country_ Dominican-Republic', 'native-country_ Ecuador', 'native-country_ El-Salvador', 'native-country_ England', 'native-country_ France', 'native-country_ Germany', 'native-country_ Greece', 'native-country_ Guatemala', 'native-country_ Haiti', 'native-country_ Holand-Netherlands', 'native-country_ Honduras', 'native-country_ Hong', 'native-country_ Hungary', 'native-country_ India', 'native-country_ Iran', 'native-country_ Ireland', 'native-country_ Italy', 'native-country_ Jamaica', 'native-country_ Japan', 'native-country_ Laos', 'native-country_ Mexico', 'native-country_ Nicaragua', 'native-country_ Outlying-US(Guam-USVI-etc)', 'native-country_ Peru', 'native-country_ Philippines', 'native-country_ Poland', 'native-country_ Portugal', 'native-country_ Puerto-Rico', 'native-country_ Scotland', 'native-country_ South', 'native-country_ Taiwan', 'native-country_ Thailand', 'native-country_ Trinadad&Tobago', 'native-country_ United-States', 'native-country_ Vietnam', 'native-country_ Yugoslavia']\n"
     ]
    }
   ],
   "source": [
    "# TODO: One-hot encode the 'features_raw' data using pandas.get_dummies()\n",
    "features = pd.get_dummies(features_raw, columns=['workclass', 'education_level', 'marital-status', 'occupation', 'relationship', 'race', 'sex', 'native-country'])\n",
    "\n",
    "# TODO: Encode the 'income_raw' data to numerical values\n",
    "income = pd.get_dummies(income_raw, drop_first=True)['>50K']\n",
    "\n",
    "# Print the number of features after one-hot encoding\n",
    "encoded = list(features.columns)\n",
    "print \"{} total features after one-hot encoding.\".format(len(encoded))\n",
    "\n",
    "# Uncomment the following line to see the encoded feature names\n",
    "print encoded"
   ]
  },
  {
   "cell_type": "markdown",
   "metadata": {},
   "source": [
    "### Shuffle and Split Data\n",
    "Now all _categorical variables_ have been converted into numerical features, and all numerical features have been normalized. As always, we will now split the data (both features and their labels) into training and test sets. 80% of the data will be used for training and 20% for testing.\n",
    "\n",
    "Run the code cell below to perform this split."
   ]
  },
  {
   "cell_type": "code",
   "execution_count": 73,
   "metadata": {
    "collapsed": false
   },
   "outputs": [
    {
     "name": "stdout",
     "output_type": "stream",
     "text": [
      "Training set has 36177 samples.\n",
      "Testing set has 9045 samples.\n"
     ]
    }
   ],
   "source": [
    "# Import train_test_split\n",
    "from sklearn.cross_validation import train_test_split\n",
    "\n",
    "# Split the 'features' and 'income' data into training and testing sets\n",
    "X_train, X_test, y_train, y_test = train_test_split(features, income, test_size = 0.2, random_state = 0)\n",
    "\n",
    "# Show the results of the split\n",
    "print \"Training set has {} samples.\".format(X_train.shape[0])\n",
    "print \"Testing set has {} samples.\".format(X_test.shape[0])"
   ]
  },
  {
   "cell_type": "markdown",
   "metadata": {},
   "source": [
    "----\n",
    "## Evaluating Model Performance\n",
    "In this section, we will investigate four different algorithms, and determine which is best at modeling the data. Three of these algorithms will be supervised learners of your choice, and the fourth algorithm is known as a *naive predictor*."
   ]
  },
  {
   "cell_type": "markdown",
   "metadata": {},
   "source": [
    "### Metrics and the Naive Predictor\n",
    "*CharityML*, equipped with their research, knows individuals that make more than \\$50,000 are most likely to donate to their charity. Because of this, *CharityML* is particularly interested in predicting who makes more than \\$50,000 accurately. It would seem that using **accuracy** as a metric for evaluating a particular model's performace would be appropriate. Additionally, identifying someone that *does not* make more than \\$50,000 as someone who does would be detrimental to *CharityML*, since they are looking to find individuals willing to donate. Therefore, a model's ability to precisely predict those that make more than \\$50,000 is *more important* than the model's ability to **recall** those individuals. We can use **F-beta score** as a metric that considers both precision and recall:\n",
    "\n",
    "$$ F_{\\beta} = (1 + \\beta^2) \\cdot \\frac{precision \\cdot recall}{\\left( \\beta^2 \\cdot precision \\right) + recall} $$\n",
    "\n",
    "In particular, when $\\beta = 0.5$, more emphasis is placed on precision. This is called the **F$_{0.5}$ score** (or F-score for simplicity).\n",
    "\n",
    "Looking at the distribution of classes (those who make at most \\$50,000, and those who make more), it's clear most individuals do not make more than \\$50,000. This can greatly affect **accuracy**, since we could simply say *\"this person does not make more than \\$50,000\"* and generally be right, without ever looking at the data! Making such a statement would be called **naive**, since we have not considered any information to substantiate the claim. It is always important to consider the *naive prediction* for your data, to help establish a benchmark for whether a model is performing well. That been said, using that prediction would be pointless: If we predicted all people made less than \\$50,000, *CharityML* would identify no one as donors. "
   ]
  },
  {
   "cell_type": "markdown",
   "metadata": {},
   "source": [
    "### Question 1 - Naive Predictor Performace\n",
    "*If we chose a model that always predicted an individual made more than \\$50,000, what would that model's accuracy and F-score be on this dataset?*  \n",
    "**Note:** You must use the code cell below and assign your results to `'accuracy'` and `'fscore'` to be used later."
   ]
  },
  {
   "cell_type": "code",
   "execution_count": 105,
   "metadata": {
    "collapsed": false
   },
   "outputs": [
    {
     "name": "stdout",
     "output_type": "stream",
     "text": [
      "Naive Predictor: [Accuracy score: 0.2478, F-score: 0.2917]\n"
     ]
    }
   ],
   "source": [
    "# TODO: Calculate accuracy\n",
    "\n",
    "from sklearn.metrics import fbeta_score\n",
    "\n",
    "y_pred=[]\n",
    "\n",
    "total = income.shape[0]\n",
    "TP = np.sum(income)\n",
    "\n",
    "accuracy = float(TP) / float(total)\n",
    "\n",
    "\n",
    "for i in range (0, len(income)):\n",
    "    y_pred.append(1)\n",
    "\n",
    "# TODO: Calculate F-score using the formula above for beta = 0.5\n",
    "FP = income.value_counts()[0]\n",
    "predicted_yes = TP + FP\n",
    "precision = float(TP) / float(predicted_yes)\n",
    "\n",
    "FN = 0\n",
    "actually_yes = TP + FN\n",
    "recall = float(TP) / float(actually_yes)\n",
    "\n",
    "fscore = (1 + 0.5**2) * float(precision * recall) / float(0.5**2 * precision + recall)\n",
    "\n",
    "# Print the results \n",
    "print \"Naive Predictor: [Accuracy score: {:.4f}, F-score: {:.4f}]\".format(accuracy, fscore)"
   ]
  },
  {
   "cell_type": "markdown",
   "metadata": {},
   "source": [
    "###  Supervised Learning Models\n",
    "**The following supervised learning models are currently available in** [`scikit-learn`](http://scikit-learn.org/stable/supervised_learning.html) **that you may choose from:**\n",
    "- Gaussian Naive Bayes (GaussianNB)\n",
    "- Decision Trees\n",
    "- Ensemble Methods (Bagging, AdaBoost, Random Forest, Gradient Boosting)\n",
    "- K-Nearest Neighbors (KNeighbors)\n",
    "- Stochastic Gradient Descent Classifier (SGDC)\n",
    "- Support Vector Machines (SVM)\n",
    "- Logistic Regression"
   ]
  },
  {
   "cell_type": "markdown",
   "metadata": {},
   "source": [
    "### Question 2 - Model Application\n",
    "List three of the supervised learning models above that are appropriate for this problem that you will test on the census data. For each model chosen\n",
    "- *Describe one real-world application in industry where the model can be applied.* (You may need to do research for this — give references!)\n",
    "- *What are the strengths of the model; when does it perform well?*\n",
    "- *What are the weaknesses of the model; when does it perform poorly?*\n",
    "- *What makes this model a good candidate for the problem, given what you know about the data?*"
   ]
  },
  {
   "cell_type": "markdown",
   "metadata": {},
   "source": [
    "**Answer: **\n",
    "\n",
    "Naive Bayes (NB, based on Bayes' Theorem, Thomas Bayes in 1763) can be used in a text classificaiton task - sentimental classification. For example, based on the words extracted from online social medias, predict if the this person is happy nor not happy (https://inclass.kaggle.com/c/si650winter11). Because it assumes features (words) are independent of each other, NB classifier can compute high dimential features (words) very quickly on training data. The weakness is also that it assumes feature independency. Because words are not related to each other (however it is dependent only to happyness or unhappyness) it can confuse NB when lots of happy words appear in the unhappy texts. On the other hand, it can also happen when both happy and unhappy texts have identical words. For example, cry can be unhappy or happy, depending on the context. This problem contains 33052 data points (sentences) and probably over 5000 discrete features (words) and only 2 classes - happy and unhappy feeling. All NB does is just keep muliplying discrete features, updating prior probability and make inferences on the classes the words belong. The flat simple muliplications makes the computational complexity very fast, for example, is only O(5000*2) = O(10000) ((https://brilliant.org/wiki/naive-bayes-classifier/?subtopic=machine-learning&chapter=classification) ). The probabilistic algorithm might not be perfect for finding donors, because features like occupation and capital-gain and marital-status are dependent and correlated to each other instead of independent, and this affects the prediction accuracy and fscore (https://www.youtube.com/watch?v=feBKiAdhYkc&list=PLBv09BD7ez_6CxkuiFTbL3jsn2Qd1IU7B&index=11).\n",
    "\n",
    "On the other hand, Support Vector Machine (SVM by Vladimir Vapnik in 1963) is one the best and widely used supervised learning geometry method (https://brilliant.org/wiki/support-vector-machines/) today which is not based on probability (once it is trained, it gives 100% certainty of the data point class). The SVM works on seperating data points that are further apart. First, it lays the data points on a multi-demensional \"space\" and learns to seperate data points belonging to different classes in linear fashion and maximizes the gap betwen them, so that the split is not biased to neither side of class and has equal potential to expect incoming real world data set. Second, the SVM takes new data point into the \"space\" and predicts which class it belongs to, depending on where does it fall on the side of seperation. Not only the SVM works on linear classfication, it works on non-linear too: if the data points aren't linearly seperable: imagine data points are layed flat on a sheet of papar, and someone walks in and folds the paper into a 'watermelon', so that the person can find a 'clear ninja cut' in between, therefore seperating the 'seeds' - data points. This is called kernel trick. The SVM performs extremly well when the data set is small, but it performs poorly when the data set is large because it takes too much time training each data point very carefully. The SVM outperforms other models in small image recognition such as recognizing handwritten digits (https://shankarmsy.github.io/posts/svm-sklearn.html). Because the image data feature (pixels) is continuous, the non-linear kernel (rbf) makes it possible a smoothier seperation boundary between different images in higher dimensional space (kernel trick) (https://www.quora.com/Why-does-linear-kernelized-SVM-perform-much-better-on-text-data-than-on-image-data). The SVM solves what probalistic algorithm falls: it does not care about data points that are very close to each other. The SVM seperates data points that are further apart and naturally thinks like my intuition close data points belong to same crowd. The distance algorithm works well with finding donors, because it is not a textual analytical problem and it considers that data points overall close to each other exhibit similarity in distribution (https://en.wikipedia.org/wiki/Support_vector_machine).\n",
    "\n",
    "Decision Tree (ID3 Iterative Dichotomiser 3 by Ross Quinlan in 1986) is a geometry method that splits data points into a tree of leaves througth branches, by dicisions made on each level of branches. These tree leaves are learnt by asking simple questions, like a game of 20 questions (https://shapeofdata.wordpress.com/2013/07/02/decision-trees/). The answers are then turned into numerical representations and form thresholds on a multi-dimentional space. The tresholds are the decision bondaries that group similar data points into clusters of classes, based on entropy, a method of maximizing purity: grouping same class data points in the same region and kicking out the data points that are different classes. In theory, the Decision Tree iterates asking quesitons untill it reaches a state where it forms all possible regions that do not contain data points belonging to different classes (in practice however, the tree can stop growing at some point where regions have mostly one class of data points than the other class and it is called pruning). One application of Decision Tree is to predict for the bank if the loans are going to be paid on time (https://www.kaggle.com/kubo56/analysis-decision-tree-default-prediction). It is good because it takes larger data set and takes resonable time to train. Also its tree graph is easy to understand and interprete. The less useful features can be discarded and only more important features are remained for building model. The logic is easily explained by boolen logic. It works on both numerical and categorical data. However it can happend at the times when input training data changes a bit, resulting in big change in the tree structure and final predictions. It can also be a problem when Decision Tree overfits the training data and does not generalize well leading to high variance error and reducing accuracy (https://www.youtube.com/watch?v=BqOgaENTr08&index=13&list=PLBv09BD7ez_4_UoYeGrzvqveIR_USBEKD). Opimization can be reached by pruning: cutting unnecessary branches and maintain a good shape to train faster and less prediction errors due to overfitting. The Decision Tree works with finding donors very well because it works on both numerical and categorical data: the numerical data do not need to be normalized and categorical data do not need to converted to dummies. This gives the geometry algorithm convenience to handle different sorts of data points and overall compatibility of solving different problems (https://www.youtube.com/watch?v=N08cHUKxENE&list=PLBv09BD7ez_4_UoYeGrzvqveIR_USBEKD&t=14). Finally the time cost is considerably faster than SVM on larger data points."
   ]
  },
  {
   "cell_type": "markdown",
   "metadata": {},
   "source": [
    "### Implementation - Creating a Training and Predicting Pipeline\n",
    "To properly evaluate the performance of each model you've chosen, it's important that you create a training and predicting pipeline that allows you to quickly and effectively train models using various sizes of training data and perform predictions on the testing data. Your implementation here will be used in the following section.\n",
    "In the code block below, you will need to implement the following:\n",
    " - Import `fbeta_score` and `accuracy_score` from [`sklearn.metrics`](http://scikit-learn.org/stable/modules/classes.html#sklearn-metrics-metrics).\n",
    " - Fit the learner to the sampled training data and record the training time.\n",
    " - Perform predictions on the test data `X_test`, and also on the first 300 training points `X_train[:300]`.\n",
    "   - Record the total prediction time.\n",
    " - Calculate the accuracy score for both the training subset and testing set.\n",
    " - Calculate the F-score for both the training subset and testing set.\n",
    "   - Make sure that you set the `beta` parameter!"
   ]
  },
  {
   "cell_type": "code",
   "execution_count": 167,
   "metadata": {
    "collapsed": false
   },
   "outputs": [],
   "source": [
    "# TODO: Import two metrics from sklearn - fbeta_score and accuracy_score\n",
    "\n",
    "from sklearn.metrics import fbeta_score, accuracy_score, confusion_matrix, classification_report\n",
    "\n",
    "def train_predict(learner, sample_size, X_train, y_train, X_test, y_test): \n",
    "    '''\n",
    "    inputs:\n",
    "       - learner: the learning algorithm to be trained and predicted on\n",
    "       - sample_size: the size of samples (number) to be drawn from training set\n",
    "       - X_train: features training set\n",
    "       - y_train: income training set\n",
    "       - X_test: features testing set\n",
    "       - y_test: income testing set\n",
    "    '''\n",
    "    \n",
    "    results = {}\n",
    "    \n",
    "    i = sample_size\n",
    "    \n",
    "    target_names = ['class 0', 'class 1', 'class 2']\n",
    "    \n",
    "    # TODO: Fit the learner to the training data using slicing with 'sample_size'\n",
    "    start = time() # Get start time\n",
    "    learner = learner.fit(X_train[:i], y_train[:i])\n",
    "    end = time() # Get end time\n",
    "    \n",
    "    # TODO: Calculate the training time\n",
    "    results['train_time'] = end - start\n",
    "        \n",
    "    # TODO: Get the predictions on the test set,\n",
    "    #       then get predictions on the first 300 training samples\n",
    "    start = time() # Get start time\n",
    "    predictions_test = learner.predict(X_test)\n",
    "    predictions_train = learner.predict(X_train[:300])\n",
    "    end = time() # Get end time\n",
    "     \n",
    "    cm = confusion_matrix(y_test, predictions_test)\n",
    "    cr = classification_report(y_test, predictions_test, target_names=target_names)\n",
    "    \n",
    "    # TODO: Calculate the total prediction time\n",
    "    results['pred_time'] = end - start\n",
    "            \n",
    "    # TODO: Compute accuracy on the first 300 training samples\n",
    "    results['acc_train'] = accuracy_score(y_train[:300], predictions_train)\n",
    "        \n",
    "    # TODO: Compute accuracy on test set\n",
    "    results['acc_test'] = accuracy_score(y_test, predictions_test)\n",
    "    \n",
    "    # TODO: Compute F-score on the the first 300 training samples\n",
    "    results['f_train'] = fbeta_score(y_train[:300], predictions_train, beta=0.5)\n",
    "        \n",
    "    # TODO: Compute F-score on the test set\n",
    "    results['f_test'] = fbeta_score(y_test, predictions_test, beta=0.5)\n",
    "       \n",
    "    # Success\n",
    "    print \"{} trained on {} samples.\".format(learner.__class__.__name__, sample_size)\n",
    "    print cm, cr\n",
    "        \n",
    "    # Return the results\n",
    "    return results"
   ]
  },
  {
   "cell_type": "markdown",
   "metadata": {},
   "source": [
    "### Implementation: Initial Model Evaluation\n",
    "In the code cell, you will need to implement the following:\n",
    "- Import the three supervised learning models you've discussed in the previous section.\n",
    "- Initialize the three models and store them in `'clf_A'`, `'clf_B'`, and `'clf_C'`.\n",
    "  - Use a `'random_state'` for each model you use, if provided.\n",
    "  - **Note:** Use the default settings for each model — you will tune one specific model in a later section.\n",
    "- Calculate the number of records equal to 1%, 10%, and 100% of the training data.\n",
    "  - Store those values in `'samples_1'`, `'samples_10'`, and `'samples_100'` respectively.\n",
    "\n",
    "**Note:** Depending on which algorithms you chose, the following implementation may take some time to run!"
   ]
  },
  {
   "cell_type": "code",
   "execution_count": 168,
   "metadata": {
    "collapsed": false
   },
   "outputs": [
    {
     "name": "stdout",
     "output_type": "stream",
     "text": [
      "GaussianNB trained on 361 samples.\n",
      "[[4890 1950]\n",
      " [ 349 1856]]              precision    recall  f1-score   support\n",
      "\n",
      "    class 0       0.93      0.71      0.81      6840\n",
      "    class 1       0.49      0.84      0.62      2205\n",
      "\n",
      "avg / total       0.82      0.75      0.76      9045\n",
      "\n",
      "GaussianNB trained on 3617 samples.\n",
      "[[5576 1264]\n",
      " [ 460 1745]]              precision    recall  f1-score   support\n",
      "\n",
      "    class 0       0.92      0.82      0.87      6840\n",
      "    class 1       0.58      0.79      0.67      2205\n",
      "\n",
      "avg / total       0.84      0.81      0.82      9045\n",
      "\n",
      "GaussianNB trained on 36177 samples.\n",
      "[[5495 1345]\n",
      " [ 449 1756]]              precision    recall  f1-score   support\n",
      "\n",
      "    class 0       0.92      0.80      0.86      6840\n",
      "    class 1       0.57      0.80      0.66      2205\n",
      "\n",
      "avg / total       0.84      0.80      0.81      9045\n",
      "\n",
      "DecisionTreeClassifier trained on 361 samples.\n",
      "[[5705 1135]\n",
      " [ 993 1212]]              precision    recall  f1-score   support\n",
      "\n",
      "    class 0       0.85      0.83      0.84      6840\n",
      "    class 1       0.52      0.55      0.53      2205\n",
      "\n",
      "avg / total       0.77      0.76      0.77      9045\n",
      "\n",
      "DecisionTreeClassifier trained on 3617 samples.\n",
      "[[5940  900]\n",
      " [ 871 1334]]              precision    recall  f1-score   support\n",
      "\n",
      "    class 0       0.87      0.87      0.87      6840\n",
      "    class 1       0.60      0.60      0.60      2205\n",
      "\n",
      "avg / total       0.81      0.80      0.80      9045\n",
      "\n",
      "DecisionTreeClassifier trained on 36177 samples.\n",
      "[[6040  800]\n",
      " [ 844 1361]]              precision    recall  f1-score   support\n",
      "\n",
      "    class 0       0.88      0.88      0.88      6840\n",
      "    class 1       0.63      0.62      0.62      2205\n",
      "\n",
      "avg / total       0.82      0.82      0.82      9045\n",
      "\n",
      "SVC trained on 361 samples.\n",
      "[[6706  134]\n",
      " [1698  507]]              precision    recall  f1-score   support\n",
      "\n",
      "    class 0       0.80      0.98      0.88      6840\n",
      "    class 1       0.79      0.23      0.36      2205\n",
      "\n",
      "avg / total       0.80      0.80      0.75      9045\n",
      "\n",
      "SVC trained on 3617 samples.\n",
      "[[6597  243]\n",
      " [1151 1054]]              precision    recall  f1-score   support\n",
      "\n",
      "    class 0       0.85      0.96      0.90      6840\n",
      "    class 1       0.81      0.48      0.60      2205\n",
      "\n",
      "avg / total       0.84      0.85      0.83      9045\n",
      "\n",
      "SVC trained on 36177 samples.\n",
      "[[6514  326]\n",
      " [ 923 1282]]              precision    recall  f1-score   support\n",
      "\n",
      "    class 0       0.88      0.95      0.91      6840\n",
      "    class 1       0.80      0.58      0.67      2205\n",
      "\n",
      "avg / total       0.86      0.86      0.85      9045\n",
      "\n"
     ]
    },
    {
     "data": {
      "image/png": "[encoded data removed]",
      "text/plain": [
       "<matplotlib.figure.Figure at 0x117ba2610>"
      ]
     },
     "metadata": {},
     "output_type": "display_data"
    }
   ],
   "source": [
    "# TODO: Import the three supervised learning models from sklearn\n",
    "from sklearn.svm import SVC\n",
    "from sklearn.tree import DecisionTreeClassifier\n",
    "from sklearn.naive_bayes import GaussianNB\n",
    "from sklearn.metrics import fbeta_score, accuracy_score\n",
    "\n",
    "# TODO: Initialize the three models\n",
    "clf_A = GaussianNB()\n",
    "clf_B = DecisionTreeClassifier(random_state=5)\n",
    "clf_C = SVC(kernel='rbf', random_state=5)\n",
    "\n",
    "# TODO: Calculate the number of samples for 1%, 10%, and 100% of the training data\n",
    "samples_1 = int(0.01 * X_train.shape[0])\n",
    "samples_10 = int(0.1 * X_train.shape[0])\n",
    "samples_100 = X_train.shape[0]\n",
    "\n",
    "# Collect results on the learners\n",
    "results = {}\n",
    "for clf in [clf_A, clf_B, clf_C]:\n",
    "    clf_name = clf.__class__.__name__\n",
    "    results[clf_name] = {}\n",
    "    for i, samples in enumerate([samples_1, samples_10, samples_100]):\n",
    "        results[clf_name][i] = \\\n",
    "        train_predict(clf, samples, X_train, y_train, X_test, y_test)\n",
    "\n",
    "# Run metrics visualization for the three supervised learning models chosen\n",
    "vs.evaluate(results, accuracy, fscore)"
   ]
  },
  {
   "cell_type": "markdown",
   "metadata": {},
   "source": [
    "----\n",
    "## Improving Results\n",
    "In this final section, you will choose from the three supervised learning models the *best* model to use on the student data. You will then perform a grid search optimization for the model over the entire training set (`X_train` and `y_train`) by tuning at least one parameter to improve upon the untuned model's F-score. "
   ]
  },
  {
   "cell_type": "markdown",
   "metadata": {},
   "source": [
    "### Question 3 - Choosing the Best Model\n",
    "*Based on the evaluation you performed earlier, in one to two paragraphs, explain to *CharityML* which of the three models you believe to be most appropriate for the task of identifying individuals that make more than \\$50,000.*  \n",
    "**Hint:** Your answer should include discussion of the metrics, prediction/training time, and the algorithm's suitability for the data."
   ]
  },
  {
   "cell_type": "markdown",
   "metadata": {},
   "source": [
    "**Answer: ** Based on the graph on Performance Metrics for Three Supervised Learning Models, I believe the SVM can be a fit to the problem, but not the best. The DecisionTree is your guy. As you can see, the accuracy score for SVM on testing set is the highest (about 84%) and DecisionTree has about 81%. The lower accuracy score on the training set indicates that the model learns the dataset well instead memorizing/overfitting the training set like DecisionTree. As you can see clearly in the graph, DecisionTree overfits the training data and both Accuracy adn F-score is perfectly 100% and SVM outperforms it in testing set. However, huge problem for SVM is the long training time, which is the longest among all three models, about 156 seconds. It does affect the performace on this particular problem because time is an import factor. Nobody wants to waste overnight for the result to come when it is too late. In fact, I will need to run overnight to compute the final results with C=1000 in k-folds validation. The F-score for DecisionTree on testing set is about 0.6 when trained on 100% on training set size and this indicates that 60% of the predictions on high income (>50K) are accurate and only 40% of the prediciton population are mistaken as high income. The SVM on F-score is better than DecisionTree, but if your client can not wait overnight then it is useless. Over all the SVM will not be a very good candidate considering such large data set with many features, without feature reduction."
   ]
  },
  {
   "cell_type": "markdown",
   "metadata": {},
   "source": [
    "### Question 4 - Describing the Model in Layman's Terms\n",
    "*In one to two paragraphs, explain to *CharityML*, in layman's terms, how the final model chosen is supposed to work. Be sure that you are describing the major qualities of the model, such as how the model is trained and how the model makes a prediction. Avoid using advanced mathematical or technical jargon, such as describing equations or discussing the algorithm implementation.*"
   ]
  },
  {
   "cell_type": "markdown",
   "metadata": {},
   "source": [
    "**Answer: ** Hello CharityML, I have just worked out for you one of the best models which is excellent for this particular job in predicting individuals' income based on the specific information provided such as age and working hours per week. The dataset you gave to me is split into two: train and test. The model SVM is trained on the train set and learns to identify high incomes (income >50K) and low incomes (income <=50K) and finds for itself the best boundary to seperate them, meaning that it passes through the middle of the data points from high income and low income. It maximizes the gap between data points on both sides. The model then tests on the test set and makes predicitons. Using this boundary, it thinks high income if a new person's information provided falls on the high income side, and thinks low income if it falls on the low income side. \n",
    "\n",
    "Let's say the data points just are ridiculous and won't let you cut straight between different labels, like in the problem of finding donors. What I did is a trick that folds the data points on a sheet of paper into a 'watermelon' so I can perform my specialized 'ninja cut' and folds it back into the paper, by which I can give you the labels that are nicely seperated. Now what you see on the paper is a sophiscated seperation representation that wanders around like a smart car without colliding with any label data points. One one side of the trace left by the smart car is high income, and on another is the low income."
   ]
  },
  {
   "cell_type": "markdown",
   "metadata": {},
   "source": [
    "### Implementation: Model Tuning\n",
    "Fine tune the chosen model. Use grid search (`GridSearchCV`) with at least one important parameter tuned with at least 3 different values. You will need to use the entire training set for this. In the code cell below, you will need to implement the following:\n",
    "- Import [`sklearn.grid_search.GridSearchCV`](http://scikit-learn.org/0.17/modules/generated/sklearn.grid_search.GridSearchCV.html) and [`sklearn.metrics.make_scorer`](http://scikit-learn.org/stable/modules/generated/sklearn.metrics.make_scorer.html).\n",
    "- Initialize the classifier you've chosen and store it in `clf`.\n",
    " - Set a `random_state` if one is available to the same state you set before.\n",
    "- Create a dictionary of parameters you wish to tune for the chosen model.\n",
    " - Example: `parameters = {'parameter' : [list of values]}`.\n",
    " - **Note:** Avoid tuning the `max_features` parameter of your learner if that parameter is available!\n",
    "- Use `make_scorer` to create an `fbeta_score` scoring object (with $\\beta = 0.5$).\n",
    "- Perform grid search on the classifier `clf` using the `'scorer'`, and store it in `grid_obj`.\n",
    "- Fit the grid search object to the training data (`X_train`, `y_train`), and store it in `grid_fit`.\n",
    "\n",
    "**Note:** Depending on the algorithm chosen and the parameter list, the following implementation may take some time to run!"
   ]
  },
  {
   "cell_type": "code",
   "execution_count": 118,
   "metadata": {
    "collapsed": false
   },
   "outputs": [
    {
     "name": "stderr",
     "output_type": "stream",
     "text": [
      "/Users/JiaHui/anaconda2/lib/python2.7/site-packages/sklearn/metrics/classification.py:1074: UndefinedMetricWarning: F-score is ill-defined and being set to 0.0 due to no predicted samples.\n",
      "  'precision', 'predicted', average, warn_for)\n"
     ]
    },
    {
     "name": "stdout",
     "output_type": "stream",
     "text": [
      "The training time is: 1583.79681396\n",
      "The testing time is: 0.365512132645\n",
      "Unoptimized model\n",
      "------\n",
      "Accuracy score on testing data: 0.8182\n",
      "F-score on testing data: 0.6272\n",
      "\n",
      "Optimized Model\n",
      "------\n",
      "Final accuracy score on the testing data: 0.8543\n",
      "Final F-score on the testing data: 0.7193\n"
     ]
    }
   ],
   "source": [
    "# TODO: Import 'GridSearchCV', 'make_scorer', and any other necessary libraries\n",
    "from sklearn.grid_search import GridSearchCV\n",
    "from sklearn.metrics import fbeta_score, make_scorer\n",
    "from sklearn.svm import SVC\n",
    "from sklearn.tree import DecisionTreeClassifier\n",
    "\n",
    "\n",
    "t0 = time()\n",
    "# TODO: Initialize the classifier\n",
    "clf = DecisionTreeClassifier(random_state=5)\n",
    "\n",
    "# TODO: Create the parameters list you wish to tune\n",
    "max_depth = range(1,20)\n",
    "min_samples_split = range(2,40)\n",
    "parameters = dict(max_depth=max_depth, min_samples_split=min_samples_split)\n",
    "\n",
    "# TODO: Make an fbeta_score scoring object\n",
    "scorer = make_scorer(fbeta_score, beta=0.5)\n",
    "\n",
    "# TODO: Perform grid search on the classifier using 'scorer' as the scoring method\n",
    "grid_obj = GridSearchCV(clf, parameters, cv=10, scoring=scorer)\n",
    "\n",
    "# TODO: Fit the grid search object to the training data and find the optimal parameters\n",
    "grid_fit = grid_obj.fit(X_train, y_train)\n",
    "\n",
    "# Get the estimator\n",
    "best_clf = grid_fit.best_estimator_\n",
    "\n",
    "print (\"The training time is: {}\".format(time() - t0))\n",
    "\n",
    "t1 = time()\n",
    "\n",
    "# Make predictions using the unoptimized and model\n",
    "predictions = (clf.fit(X_train, y_train)).predict(X_test)\n",
    "best_predictions = best_clf.predict(X_test)\n",
    "\n",
    "print (\"The testing time is: {}\".format(time() - t1))\n",
    "\n",
    "# Report the before-and-afterscores\n",
    "print \"Unoptimized model\\n------\"\n",
    "print \"Accuracy score on testing data: {:.4f}\".format(accuracy_score(y_test, predictions))\n",
    "print \"F-score on testing data: {:.4f}\".format(fbeta_score(y_test, predictions, beta = 0.5))\n",
    "print \"\\nOptimized Model\\n------\"\n",
    "print \"Final accuracy score on the testing data: {:.4f}\".format(accuracy_score(y_test, best_predictions))\n",
    "print \"Final F-score on the testing data: {:.4f}\".format(fbeta_score(y_test, best_predictions, beta = 0.5))"
   ]
  },
  {
   "cell_type": "code",
   "execution_count": 119,
   "metadata": {
    "collapsed": false
   },
   "outputs": [
    {
     "data": {
      "text/plain": [
       "DecisionTreeClassifier(class_weight=None, criterion='gini', max_depth=9,\n",
       "            max_features=None, max_leaf_nodes=None, min_samples_leaf=1,\n",
       "            min_samples_split=16, min_weight_fraction_leaf=0.0,\n",
       "            presort=False, random_state=5, splitter='best')"
      ]
     },
     "execution_count": 119,
     "metadata": {},
     "output_type": "execute_result"
    }
   ],
   "source": [
    "best_clf"
   ]
  },
  {
   "cell_type": "markdown",
   "metadata": {},
   "source": [
    "### Question 5 - Final Model Evaluation\n",
    "_What is your optimized model's accuracy and F-score on the testing data? Are these scores better or worse than the unoptimized model? How do the results from your optimized model compare to the naive predictor benchmarks you found earlier in **Question 1**?_  \n",
    "**Note:** Fill in the table below with your results, and then provide discussion in the **Answer** box."
   ]
  },
  {
   "cell_type": "markdown",
   "metadata": {},
   "source": [
    "#### Results:\n",
    "\n",
    "|     Metric     | Benchmark Predictor | Unoptimized Model | Optimized Model |\n",
    "| :------------: | :-----------------: | :---------------: | :-------------: | \n",
    "| Accuracy Score |      0.2478               |     0.8182              |     0.8543            |\n",
    "    | F-score        |0.2917            |          0.6272         |    0.7193      |\n"
   ]
  },
  {
   "cell_type": "markdown",
   "metadata": {},
   "source": [
    "**Answer: ** The Accuracy Score and F-score for a naive guess is the worst of all: this is because the naive guess is just a blind guess which does not consider any individuals information like age and capital-gain. However, the unoptimized model is much better (Accuracy=0.8182) and the optimized model (Accuracy=0.8543) is even better! This is because the Decision Tree takes into considerations of every possible information about an individual and come up with a well informed decision! The F(beta=0.5)-score steadly increases and reaches 0.72 meaning 72% of the prediction popuplation over high income are truly high income(>50K) and only 28% of the population are wrongly believed to be high income, which is the best of all three models!"
   ]
  },
  {
   "cell_type": "markdown",
   "metadata": {},
   "source": [
    "----\n",
    "## Feature Importance\n",
    "\n",
    "An important task when performing supervised learning on a dataset like the census data we study here is determining which features provide the most predictive power. By focusing on the relationship between only a few crucial features and the target label we simplify our understanding of the phenomenon, which is most always a useful thing to do. In the case of this project, that means we wish to identify a small number of features that most strongly predict whether an individual makes at most or more than \\$50,000.\n",
    "\n",
    "Choose a scikit-learn classifier (e.g., adaboost, random forests) that has a `feature_importance_` attribute, which is a function that ranks the importance of features according to the chosen classifier.  In the next python cell fit this classifier to training set and use this attribute to determine the top 5 most important features for the census dataset."
   ]
  },
  {
   "cell_type": "markdown",
   "metadata": {},
   "source": [
    "### Question 6 - Feature Relevance Observation\n",
    "When **Exploring the Data**, it was shown there are thirteen available features for each individual on record in the census data.  \n",
    "_Of these thirteen records, which five features do you believe to be most important for prediction, and in what order would you rank them and why?_"
   ]
  },
  {
   "cell_type": "markdown",
   "metadata": {},
   "source": [
    "**Answer:** occupation > education_level > education_num > hours-per-week > capital-gain. I think the occupation is the number one reason for high income. Because good job pays good. Education_level and education_num have great potential to make higher income. Then it comes hours-per-week, because the more hours one works, the more income. Capital-gain also directly takes part in high income, the more one gains in stock and real estate, the more income."
   ]
  },
  {
   "cell_type": "markdown",
   "metadata": {},
   "source": [
    "### Implementation - Extracting Feature Importance\n",
    "Choose a `scikit-learn` supervised learning algorithm that has a `feature_importance_` attribute availble for it. This attribute is a function that ranks the importance of each feature when making predictions based on the chosen algorithm.\n",
    "\n",
    "In the code cell below, you will need to implement the following:\n",
    " - Import a supervised learning model from sklearn if it is different from the three used earlier.\n",
    " - Train the supervised model on the entire training set.\n",
    " - Extract the feature importances using `'.feature_importances_'`."
   ]
  },
  {
   "cell_type": "code",
   "execution_count": 120,
   "metadata": {
    "collapsed": false
   },
   "outputs": [
    {
     "data": {
      "image/png": "[encoded data removed]",
      "text/plain": [
       "<matplotlib.figure.Figure at 0x1127294d0>"
      ]
     },
     "metadata": {},
     "output_type": "display_data"
    }
   ],
   "source": [
    "# TODO: Import a supervised learning model that has 'feature_importances_'\n",
    "from sklearn.tree import DecisionTreeClassifier\n",
    "from sklearn.ensemble import AdaBoostClassifier\n",
    "\n",
    "\n",
    "# TODO: Train the supervised model on the training set \n",
    "model = AdaBoostClassifier(random_state=5)\n",
    "model.fit(X_train, y_train)\n",
    "\n",
    "# TODO: Extract the feature importances\n",
    "importances = model.feature_importances_\n",
    "\n",
    "# Plot\n",
    "vs.feature_plot(importances, X_train, y_train)"
   ]
  },
  {
   "cell_type": "markdown",
   "metadata": {},
   "source": [
    "### Question 7 - Extracting Feature Importance\n",
    "\n",
    "Observe the visualization created above which displays the five most relevant features for predicting if an individual makes at most or above \\$50,000.  \n",
    "_How do these five features compare to the five features you discussed in **Question 6**? If you were close to the same answer, how does this visualization confirm your thoughts? If you were not close, why do you think these features are more relevant?_"
   ]
  },
  {
   "cell_type": "markdown",
   "metadata": {},
   "source": [
    "**Answer:** I got 3 features right: capital-gain, hours-per-week and education-num. As I can tell from the graph on the feature in green and cumulative feature weight in blue. The ones I missed are capital-loss and age. I think capital-loss is more relevant than my guess on occupation and education-level because it directly causes one to lose huge amount of income when in bad luck or short of insight of the way business going to grow in future. Age is also more relevant because I suppose the older one becomes the more income it scales upon (at least it is true in US and Canada)"
   ]
  },
  {
   "cell_type": "markdown",
   "metadata": {},
   "source": [
    "### Feature Selection\n",
    "How does a model perform if we only use a subset of all the available features in the data? With less features required to train, the expectation is that training and prediction time is much lower — at the cost of performance metrics. From the visualization above, we see that the top five most important features contribute more than half of the importance of **all** features present in the data. This hints that we can attempt to *reduce the feature space* and simplify the information required for the model to learn. The code cell below will use the same optimized model you found earlier, and train it on the same training set *with only the top five important features*. "
   ]
  },
  {
   "cell_type": "code",
   "execution_count": 123,
   "metadata": {
    "collapsed": false
   },
   "outputs": [
    {
     "name": "stdout",
     "output_type": "stream",
     "text": [
      "Final Model trained on full data\n",
      "------\n",
      "Accuracy on testing data: 0.8543\n",
      "F-score on testing data: 0.7193\n",
      "\n",
      "Final Model trained on reduced data\n",
      "------\n",
      "Accuracy on testing data: 0.8299\n",
      "F-score on testing data: 0.6649\n"
     ]
    }
   ],
   "source": [
    "# Import functionality for cloning a model\n",
    "from sklearn.base import clone\n",
    "\n",
    "# Reduce the feature space\n",
    "X_train_reduced = X_train[X_train.columns.values[(np.argsort(importances)[::-1])[:5]]]\n",
    "X_test_reduced = X_test[X_test.columns.values[(np.argsort(importances)[::-1])[:5]]]\n",
    "\n",
    "# Train on the \"best\" model found from grid search earlier\n",
    "clf = (clone(best_clf)).fit(X_train_reduced, y_train)\n",
    "\n",
    "\n",
    "# Make new predictions\n",
    "reduced_predictions = clf.predict(X_test_reduced)\n",
    "\n",
    "# Report scores from the final model using both versions of data\n",
    "print \"Final Model trained on full data\\n------\"\n",
    "print \"Accuracy on testing data: {:.4f}\".format(accuracy_score(y_test, best_predictions))\n",
    "print \"F-score on testing data: {:.4f}\".format(fbeta_score(y_test, best_predictions, beta = 0.5))\n",
    "print \"\\nFinal Model trained on reduced data\\n------\"\n",
    "print \"Accuracy on testing data: {:.4f}\".format(accuracy_score(y_test, reduced_predictions))\n",
    "print \"F-score on testing data: {:.4f}\".format(fbeta_score(y_test, reduced_predictions, beta = 0.5))"
   ]
  },
  {
   "cell_type": "markdown",
   "metadata": {},
   "source": [
    "### Question 8 - Effects of Feature Selection\n",
    "*How does the final model's F-score and accuracy score on the reduced data using only five features compare to those same scores when all features are used?*  \n",
    "*If training time was a factor, would you consider using the reduced data as your training set?*"
   ]
  },
  {
   "cell_type": "markdown",
   "metadata": {},
   "source": [
    "**Answer:** The reduced data using only five features drops some Accuracy and F-score but improves greatly on the time it spends to train. It might not be obvious in the case of DecisionTreeClassifier but it certainly is in SVM. Although the training time is not a great factor in this problem, it will defintely make it much faster when it becomes a problem like in human face recognition and handwritten notes on cheques. In sum, if it is SVM that takes long to train, I will definitely use the reduced data for predicitons!"
   ]
  },
  {
   "cell_type": "code",
   "execution_count": 131,
   "metadata": {
    "collapsed": false
   },
   "outputs": [
    {
     "data": {
      "text/html": [
       "<div>\n",
       "<table border=\"1\" class=\"dataframe\">\n",
       "  <thead>\n",
       "    <tr style=\"text-align: right;\">\n",
       "      <th></th>\n",
       "      <th>Coef_</th>\n",
       "      <th>Odds_Ratio_</th>\n",
       "      <th>P_values</th>\n",
       "    </tr>\n",
       "  </thead>\n",
       "  <tbody>\n",
       "    <tr>\n",
       "      <th>age</th>\n",
       "      <td>0.022645</td>\n",
       "      <td>1.022903</td>\n",
       "      <td>0.000000e+00</td>\n",
       "    </tr>\n",
       "    <tr>\n",
       "      <th>education-num</th>\n",
       "      <td>0.163576</td>\n",
       "      <td>1.177715</td>\n",
       "      <td>0.000000e+00</td>\n",
       "    </tr>\n",
       "    <tr>\n",
       "      <th>capital-gain</th>\n",
       "      <td>0.000314</td>\n",
       "      <td>1.000314</td>\n",
       "      <td>0.000000e+00</td>\n",
       "    </tr>\n",
       "    <tr>\n",
       "      <th>capital-loss</th>\n",
       "      <td>0.000664</td>\n",
       "      <td>1.000664</td>\n",
       "      <td>0.000000e+00</td>\n",
       "    </tr>\n",
       "    <tr>\n",
       "      <th>hours-per-week</th>\n",
       "      <td>0.027673</td>\n",
       "      <td>1.028059</td>\n",
       "      <td>0.000000e+00</td>\n",
       "    </tr>\n",
       "    <tr>\n",
       "      <th>workclass_ Federal-gov</th>\n",
       "      <td>0.049573</td>\n",
       "      <td>1.050822</td>\n",
       "      <td>8.218949e-28</td>\n",
       "    </tr>\n",
       "    <tr>\n",
       "      <th>workclass_ Local-gov</th>\n",
       "      <td>-0.518771</td>\n",
       "      <td>0.595251</td>\n",
       "      <td>2.459998e-07</td>\n",
       "    </tr>\n",
       "    <tr>\n",
       "      <th>workclass_ Private</th>\n",
       "      <td>-0.415357</td>\n",
       "      <td>0.660104</td>\n",
       "      <td>8.411030e-32</td>\n",
       "    </tr>\n",
       "    <tr>\n",
       "      <th>workclass_ Self-emp-inc</th>\n",
       "      <td>-0.243064</td>\n",
       "      <td>0.784221</td>\n",
       "      <td>8.072705e-151</td>\n",
       "    </tr>\n",
       "    <tr>\n",
       "      <th>workclass_ Self-emp-not-inc</th>\n",
       "      <td>-0.868231</td>\n",
       "      <td>0.419693</td>\n",
       "      <td>1.389248e-06</td>\n",
       "    </tr>\n",
       "    <tr>\n",
       "      <th>workclass_ State-gov</th>\n",
       "      <td>-0.718899</td>\n",
       "      <td>0.487288</td>\n",
       "      <td>6.591306e-02</td>\n",
       "    </tr>\n",
       "    <tr>\n",
       "      <th>workclass_ Without-pay</th>\n",
       "      <td>-0.055683</td>\n",
       "      <td>0.945839</td>\n",
       "      <td>1.026640e-01</td>\n",
       "    </tr>\n",
       "    <tr>\n",
       "      <th>education_level_ 10th</th>\n",
       "      <td>-0.685566</td>\n",
       "      <td>0.503805</td>\n",
       "      <td>2.681907e-39</td>\n",
       "    </tr>\n",
       "    <tr>\n",
       "      <th>education_level_ 11th</th>\n",
       "      <td>-0.778562</td>\n",
       "      <td>0.459066</td>\n",
       "      <td>3.210159e-58</td>\n",
       "    </tr>\n",
       "    <tr>\n",
       "      <th>education_level_ 12th</th>\n",
       "      <td>-0.362029</td>\n",
       "      <td>0.696263</td>\n",
       "      <td>6.341993e-18</td>\n",
       "    </tr>\n",
       "    <tr>\n",
       "      <th>education_level_ 1st-4th</th>\n",
       "      <td>-0.226053</td>\n",
       "      <td>0.797676</td>\n",
       "      <td>1.622203e-11</td>\n",
       "    </tr>\n",
       "    <tr>\n",
       "      <th>education_level_ 5th-6th</th>\n",
       "      <td>-0.398399</td>\n",
       "      <td>0.671394</td>\n",
       "      <td>6.873258e-18</td>\n",
       "    </tr>\n",
       "    <tr>\n",
       "      <th>education_level_ 7th-8th</th>\n",
       "      <td>-0.714794</td>\n",
       "      <td>0.489293</td>\n",
       "      <td>3.127458e-26</td>\n",
       "    </tr>\n",
       "    <tr>\n",
       "      <th>education_level_ 9th</th>\n",
       "      <td>-0.609523</td>\n",
       "      <td>0.543610</td>\n",
       "      <td>5.950668e-25</td>\n",
       "    </tr>\n",
       "    <tr>\n",
       "      <th>education_level_ Assoc-acdm</th>\n",
       "      <td>-0.240214</td>\n",
       "      <td>0.786460</td>\n",
       "      <td>3.453702e-01</td>\n",
       "    </tr>\n",
       "    <tr>\n",
       "      <th>education_level_ Assoc-voc</th>\n",
       "      <td>-0.124214</td>\n",
       "      <td>0.883191</td>\n",
       "      <td>5.678298e-01</td>\n",
       "    </tr>\n",
       "    <tr>\n",
       "      <th>education_level_ Bachelors</th>\n",
       "      <td>0.177493</td>\n",
       "      <td>1.194219</td>\n",
       "      <td>8.051268e-218</td>\n",
       "    </tr>\n",
       "    <tr>\n",
       "      <th>education_level_ Doctorate</th>\n",
       "      <td>0.569941</td>\n",
       "      <td>1.768163</td>\n",
       "      <td>9.572476e-121</td>\n",
       "    </tr>\n",
       "    <tr>\n",
       "      <th>education_level_ HS-grad</th>\n",
       "      <td>-0.351890</td>\n",
       "      <td>0.703358</td>\n",
       "      <td>5.156822e-102</td>\n",
       "    </tr>\n",
       "    <tr>\n",
       "      <th>education_level_ Masters</th>\n",
       "      <td>0.289181</td>\n",
       "      <td>1.335333</td>\n",
       "      <td>4.335981e-217</td>\n",
       "    </tr>\n",
       "    <tr>\n",
       "      <th>education_level_ Preschool</th>\n",
       "      <td>-0.093461</td>\n",
       "      <td>0.910774</td>\n",
       "      <td>5.361315e-05</td>\n",
       "    </tr>\n",
       "    <tr>\n",
       "      <th>education_level_ Prof-school</th>\n",
       "      <td>0.887014</td>\n",
       "      <td>2.427868</td>\n",
       "      <td>2.612085e-197</td>\n",
       "    </tr>\n",
       "    <tr>\n",
       "      <th>education_level_ Some-college</th>\n",
       "      <td>-0.109359</td>\n",
       "      <td>0.896409</td>\n",
       "      <td>1.477430e-21</td>\n",
       "    </tr>\n",
       "    <tr>\n",
       "      <th>marital-status_ Divorced</th>\n",
       "      <td>-0.690839</td>\n",
       "      <td>0.501155</td>\n",
       "      <td>6.427881e-123</td>\n",
       "    </tr>\n",
       "    <tr>\n",
       "      <th>marital-status_ Married-AF-spouse</th>\n",
       "      <td>0.126455</td>\n",
       "      <td>1.134799</td>\n",
       "      <td>1.761838e-02</td>\n",
       "    </tr>\n",
       "    <tr>\n",
       "      <th>...</th>\n",
       "      <td>...</td>\n",
       "      <td>...</td>\n",
       "      <td>...</td>\n",
       "    </tr>\n",
       "    <tr>\n",
       "      <th>native-country_ Greece</th>\n",
       "      <td>-0.067289</td>\n",
       "      <td>0.934925</td>\n",
       "      <td>4.313992e-01</td>\n",
       "    </tr>\n",
       "    <tr>\n",
       "      <th>native-country_ Guatemala</th>\n",
       "      <td>-0.084350</td>\n",
       "      <td>0.919109</td>\n",
       "      <td>4.765769e-05</td>\n",
       "    </tr>\n",
       "    <tr>\n",
       "      <th>native-country_ Haiti</th>\n",
       "      <td>-0.021501</td>\n",
       "      <td>0.978729</td>\n",
       "      <td>4.271430e-02</td>\n",
       "    </tr>\n",
       "    <tr>\n",
       "      <th>native-country_ Holand-Netherlands</th>\n",
       "      <td>-0.002149</td>\n",
       "      <td>0.997853</td>\n",
       "      <td>5.648891e-01</td>\n",
       "    </tr>\n",
       "    <tr>\n",
       "      <th>native-country_ Honduras</th>\n",
       "      <td>-0.011058</td>\n",
       "      <td>0.989003</td>\n",
       "      <td>2.108239e-01</td>\n",
       "    </tr>\n",
       "    <tr>\n",
       "      <th>native-country_ Hong</th>\n",
       "      <td>-0.054377</td>\n",
       "      <td>0.947075</td>\n",
       "      <td>9.896917e-01</td>\n",
       "    </tr>\n",
       "    <tr>\n",
       "      <th>native-country_ Hungary</th>\n",
       "      <td>0.005168</td>\n",
       "      <td>1.005181</td>\n",
       "      <td>6.660327e-01</td>\n",
       "    </tr>\n",
       "    <tr>\n",
       "      <th>native-country_ India</th>\n",
       "      <td>-0.156636</td>\n",
       "      <td>0.855015</td>\n",
       "      <td>5.443249e-05</td>\n",
       "    </tr>\n",
       "    <tr>\n",
       "      <th>native-country_ Iran</th>\n",
       "      <td>-0.026872</td>\n",
       "      <td>0.973486</td>\n",
       "      <td>2.283252e-03</td>\n",
       "    </tr>\n",
       "    <tr>\n",
       "      <th>native-country_ Ireland</th>\n",
       "      <td>0.019481</td>\n",
       "      <td>1.019672</td>\n",
       "      <td>9.005359e-01</td>\n",
       "    </tr>\n",
       "    <tr>\n",
       "      <th>native-country_ Italy</th>\n",
       "      <td>0.073579</td>\n",
       "      <td>1.076354</td>\n",
       "      <td>1.879880e-01</td>\n",
       "    </tr>\n",
       "    <tr>\n",
       "      <th>native-country_ Jamaica</th>\n",
       "      <td>-0.070204</td>\n",
       "      <td>0.932204</td>\n",
       "      <td>4.396653e-03</td>\n",
       "    </tr>\n",
       "    <tr>\n",
       "      <th>native-country_ Japan</th>\n",
       "      <td>-0.124319</td>\n",
       "      <td>0.883098</td>\n",
       "      <td>1.907395e-01</td>\n",
       "    </tr>\n",
       "    <tr>\n",
       "      <th>native-country_ Laos</th>\n",
       "      <td>-0.059710</td>\n",
       "      <td>0.942037</td>\n",
       "      <td>2.108239e-01</td>\n",
       "    </tr>\n",
       "    <tr>\n",
       "      <th>native-country_ Mexico</th>\n",
       "      <td>-0.761565</td>\n",
       "      <td>0.466935</td>\n",
       "      <td>3.413364e-32</td>\n",
       "    </tr>\n",
       "    <tr>\n",
       "      <th>native-country_ Nicaragua</th>\n",
       "      <td>-0.102813</td>\n",
       "      <td>0.902295</td>\n",
       "      <td>6.222886e-04</td>\n",
       "    </tr>\n",
       "    <tr>\n",
       "      <th>native-country_ Outlying-US(Guam-USVI-etc)</th>\n",
       "      <td>-0.049046</td>\n",
       "      <td>0.952138</td>\n",
       "      <td>2.131380e-02</td>\n",
       "    </tr>\n",
       "    <tr>\n",
       "      <th>native-country_ Peru</th>\n",
       "      <td>-0.095774</td>\n",
       "      <td>0.908669</td>\n",
       "      <td>2.943905e-02</td>\n",
       "    </tr>\n",
       "    <tr>\n",
       "      <th>native-country_ Philippines</th>\n",
       "      <td>0.118407</td>\n",
       "      <td>1.125703</td>\n",
       "      <td>1.228399e-01</td>\n",
       "    </tr>\n",
       "    <tr>\n",
       "      <th>native-country_ Poland</th>\n",
       "      <td>-0.023282</td>\n",
       "      <td>0.976987</td>\n",
       "      <td>5.897350e-01</td>\n",
       "    </tr>\n",
       "    <tr>\n",
       "      <th>native-country_ Portugal</th>\n",
       "      <td>-0.005396</td>\n",
       "      <td>0.994619</td>\n",
       "      <td>2.123693e-01</td>\n",
       "    </tr>\n",
       "    <tr>\n",
       "      <th>native-country_ Puerto-Rico</th>\n",
       "      <td>-0.146232</td>\n",
       "      <td>0.863957</td>\n",
       "      <td>1.065739e-03</td>\n",
       "    </tr>\n",
       "    <tr>\n",
       "      <th>native-country_ Scotland</th>\n",
       "      <td>-0.068510</td>\n",
       "      <td>0.933784</td>\n",
       "      <td>1.764659e-01</td>\n",
       "    </tr>\n",
       "    <tr>\n",
       "      <th>native-country_ South</th>\n",
       "      <td>-0.299272</td>\n",
       "      <td>0.741358</td>\n",
       "      <td>4.622847e-02</td>\n",
       "    </tr>\n",
       "    <tr>\n",
       "      <th>native-country_ Taiwan</th>\n",
       "      <td>-0.055705</td>\n",
       "      <td>0.945818</td>\n",
       "      <td>1.696405e-03</td>\n",
       "    </tr>\n",
       "    <tr>\n",
       "      <th>native-country_ Thailand</th>\n",
       "      <td>-0.048084</td>\n",
       "      <td>0.953053</td>\n",
       "      <td>3.041233e-01</td>\n",
       "    </tr>\n",
       "    <tr>\n",
       "      <th>native-country_ Trinadad&amp;Tobago</th>\n",
       "      <td>-0.076630</td>\n",
       "      <td>0.926232</td>\n",
       "      <td>1.034693e-01</td>\n",
       "    </tr>\n",
       "    <tr>\n",
       "      <th>native-country_ United-States</th>\n",
       "      <td>0.079383</td>\n",
       "      <td>1.082619</td>\n",
       "      <td>2.061344e-02</td>\n",
       "    </tr>\n",
       "    <tr>\n",
       "      <th>native-country_ Vietnam</th>\n",
       "      <td>-0.164889</td>\n",
       "      <td>0.847988</td>\n",
       "      <td>2.449585e-04</td>\n",
       "    </tr>\n",
       "    <tr>\n",
       "      <th>native-country_ Yugoslavia</th>\n",
       "      <td>0.010699</td>\n",
       "      <td>1.010756</td>\n",
       "      <td>7.765865e-01</td>\n",
       "    </tr>\n",
       "  </tbody>\n",
       "</table>\n",
       "<p>103 rows × 3 columns</p>\n",
       "</div>"
      ],
      "text/plain": [
       "                                               Coef_  Odds_Ratio_  \\\n",
       "age                                         0.022645     1.022903   \n",
       "education-num                               0.163576     1.177715   \n",
       "capital-gain                                0.000314     1.000314   \n",
       "capital-loss                                0.000664     1.000664   \n",
       "hours-per-week                              0.027673     1.028059   \n",
       "workclass_ Federal-gov                      0.049573     1.050822   \n",
       "workclass_ Local-gov                       -0.518771     0.595251   \n",
       "workclass_ Private                         -0.415357     0.660104   \n",
       "workclass_ Self-emp-inc                    -0.243064     0.784221   \n",
       "workclass_ Self-emp-not-inc                -0.868231     0.419693   \n",
       "workclass_ State-gov                       -0.718899     0.487288   \n",
       "workclass_ Without-pay                     -0.055683     0.945839   \n",
       "education_level_ 10th                      -0.685566     0.503805   \n",
       "education_level_ 11th                      -0.778562     0.459066   \n",
       "education_level_ 12th                      -0.362029     0.696263   \n",
       "education_level_ 1st-4th                   -0.226053     0.797676   \n",
       "education_level_ 5th-6th                   -0.398399     0.671394   \n",
       "education_level_ 7th-8th                   -0.714794     0.489293   \n",
       "education_level_ 9th                       -0.609523     0.543610   \n",
       "education_level_ Assoc-acdm                -0.240214     0.786460   \n",
       "education_level_ Assoc-voc                 -0.124214     0.883191   \n",
       "education_level_ Bachelors                  0.177493     1.194219   \n",
       "education_level_ Doctorate                  0.569941     1.768163   \n",
       "education_level_ HS-grad                   -0.351890     0.703358   \n",
       "education_level_ Masters                    0.289181     1.335333   \n",
       "education_level_ Preschool                 -0.093461     0.910774   \n",
       "education_level_ Prof-school                0.887014     2.427868   \n",
       "education_level_ Some-college              -0.109359     0.896409   \n",
       "marital-status_ Divorced                   -0.690839     0.501155   \n",
       "marital-status_ Married-AF-spouse           0.126455     1.134799   \n",
       "...                                              ...          ...   \n",
       "native-country_ Greece                     -0.067289     0.934925   \n",
       "native-country_ Guatemala                  -0.084350     0.919109   \n",
       "native-country_ Haiti                      -0.021501     0.978729   \n",
       "native-country_ Holand-Netherlands         -0.002149     0.997853   \n",
       "native-country_ Honduras                   -0.011058     0.989003   \n",
       "native-country_ Hong                       -0.054377     0.947075   \n",
       "native-country_ Hungary                     0.005168     1.005181   \n",
       "native-country_ India                      -0.156636     0.855015   \n",
       "native-country_ Iran                       -0.026872     0.973486   \n",
       "native-country_ Ireland                     0.019481     1.019672   \n",
       "native-country_ Italy                       0.073579     1.076354   \n",
       "native-country_ Jamaica                    -0.070204     0.932204   \n",
       "native-country_ Japan                      -0.124319     0.883098   \n",
       "native-country_ Laos                       -0.059710     0.942037   \n",
       "native-country_ Mexico                     -0.761565     0.466935   \n",
       "native-country_ Nicaragua                  -0.102813     0.902295   \n",
       "native-country_ Outlying-US(Guam-USVI-etc) -0.049046     0.952138   \n",
       "native-country_ Peru                       -0.095774     0.908669   \n",
       "native-country_ Philippines                 0.118407     1.125703   \n",
       "native-country_ Poland                     -0.023282     0.976987   \n",
       "native-country_ Portugal                   -0.005396     0.994619   \n",
       "native-country_ Puerto-Rico                -0.146232     0.863957   \n",
       "native-country_ Scotland                   -0.068510     0.933784   \n",
       "native-country_ South                      -0.299272     0.741358   \n",
       "native-country_ Taiwan                     -0.055705     0.945818   \n",
       "native-country_ Thailand                   -0.048084     0.953053   \n",
       "native-country_ Trinadad&Tobago            -0.076630     0.926232   \n",
       "native-country_ United-States               0.079383     1.082619   \n",
       "native-country_ Vietnam                    -0.164889     0.847988   \n",
       "native-country_ Yugoslavia                  0.010699     1.010756   \n",
       "\n",
       "                                                 P_values  \n",
       "age                                          0.000000e+00  \n",
       "education-num                                0.000000e+00  \n",
       "capital-gain                                 0.000000e+00  \n",
       "capital-loss                                 0.000000e+00  \n",
       "hours-per-week                               0.000000e+00  \n",
       "workclass_ Federal-gov                       8.218949e-28  \n",
       "workclass_ Local-gov                         2.459998e-07  \n",
       "workclass_ Private                           8.411030e-32  \n",
       "workclass_ Self-emp-inc                     8.072705e-151  \n",
       "workclass_ Self-emp-not-inc                  1.389248e-06  \n",
       "workclass_ State-gov                         6.591306e-02  \n",
       "workclass_ Without-pay                       1.026640e-01  \n",
       "education_level_ 10th                        2.681907e-39  \n",
       "education_level_ 11th                        3.210159e-58  \n",
       "education_level_ 12th                        6.341993e-18  \n",
       "education_level_ 1st-4th                     1.622203e-11  \n",
       "education_level_ 5th-6th                     6.873258e-18  \n",
       "education_level_ 7th-8th                     3.127458e-26  \n",
       "education_level_ 9th                         5.950668e-25  \n",
       "education_level_ Assoc-acdm                  3.453702e-01  \n",
       "education_level_ Assoc-voc                   5.678298e-01  \n",
       "education_level_ Bachelors                  8.051268e-218  \n",
       "education_level_ Doctorate                  9.572476e-121  \n",
       "education_level_ HS-grad                    5.156822e-102  \n",
       "education_level_ Masters                    4.335981e-217  \n",
       "education_level_ Preschool                   5.361315e-05  \n",
       "education_level_ Prof-school                2.612085e-197  \n",
       "education_level_ Some-college                1.477430e-21  \n",
       "marital-status_ Divorced                    6.427881e-123  \n",
       "marital-status_ Married-AF-spouse            1.761838e-02  \n",
       "...                                                   ...  \n",
       "native-country_ Greece                       4.313992e-01  \n",
       "native-country_ Guatemala                    4.765769e-05  \n",
       "native-country_ Haiti                        4.271430e-02  \n",
       "native-country_ Holand-Netherlands           5.648891e-01  \n",
       "native-country_ Honduras                     2.108239e-01  \n",
       "native-country_ Hong                         9.896917e-01  \n",
       "native-country_ Hungary                      6.660327e-01  \n",
       "native-country_ India                        5.443249e-05  \n",
       "native-country_ Iran                         2.283252e-03  \n",
       "native-country_ Ireland                      9.005359e-01  \n",
       "native-country_ Italy                        1.879880e-01  \n",
       "native-country_ Jamaica                      4.396653e-03  \n",
       "native-country_ Japan                        1.907395e-01  \n",
       "native-country_ Laos                         2.108239e-01  \n",
       "native-country_ Mexico                       3.413364e-32  \n",
       "native-country_ Nicaragua                    6.222886e-04  \n",
       "native-country_ Outlying-US(Guam-USVI-etc)   2.131380e-02  \n",
       "native-country_ Peru                         2.943905e-02  \n",
       "native-country_ Philippines                  1.228399e-01  \n",
       "native-country_ Poland                       5.897350e-01  \n",
       "native-country_ Portugal                     2.123693e-01  \n",
       "native-country_ Puerto-Rico                  1.065739e-03  \n",
       "native-country_ Scotland                     1.764659e-01  \n",
       "native-country_ South                        4.622847e-02  \n",
       "native-country_ Taiwan                       1.696405e-03  \n",
       "native-country_ Thailand                     3.041233e-01  \n",
       "native-country_ Trinadad&Tobago              1.034693e-01  \n",
       "native-country_ United-States                2.061344e-02  \n",
       "native-country_ Vietnam                      2.449585e-04  \n",
       "native-country_ Yugoslavia                   7.765865e-01  \n",
       "\n",
       "[103 rows x 3 columns]"
      ]
     },
     "execution_count": 131,
     "metadata": {},
     "output_type": "execute_result"
    }
   ],
   "source": [
    "from sklearn.feature_selection import chi2\n",
    "from sklearn.linear_model import LogisticRegression\n",
    "\n",
    "clf = LogisticRegression(random_state=5).fit(X_train, y_train)\n",
    "\n",
    "scores, pvalues = chi2(X_train, y_train)\n",
    "\n",
    "coef = pd.DataFrame(zip(clf.coef_.T, np.exp(clf.coef_).T))\n",
    "coef.columns = ['Coef_','Odds_Ratio_']\n",
    "coef['P_values'] = pvalues\n",
    "coef.index = X_train.columns\n",
    "\n",
    "coef.Coef_ = coef.Coef_.astype(np.float64)\n",
    "coef.Odds_Ratio_ = coef.Odds_Ratio_.astype(np.float64)\n",
    "\n",
    "coef"
   ]
  },
  {
   "cell_type": "markdown",
   "metadata": {},
   "source": [
    "> **Note**: Once you have completed all of the code implementations and successfully answered each question above, you may finalize your work by exporting the iPython Notebook as an HTML document. You can do this by using the menu above and navigating to  \n",
    "**File -> Download as -> HTML (.html)**. Include the finished document along with this notebook as your submission."
   ]
  }
 ],
 "metadata": {
  "kernelspec": {
   "display_name": "Python 2",
   "language": "python",
   "name": "python2"
  },
  "language_info": {
   "codemirror_mode": {
    "name": "ipython",
    "version": 2
   },
   "file_extension": ".py",
   "mimetype": "text/x-python",
   "name": "python",
   "nbconvert_exporter": "python",
   "pygments_lexer": "ipython2",
   "version": "2.7.13"
  }
 },
 "nbformat": 4,
 "nbformat_minor": 0
}
